{
 "cells": [
  {
   "metadata": {},
   "cell_type": "markdown",
   "source": "# How to use regioinvent with premise",
   "id": "e85848dd-c2ef-4061-88b5-0208ec790985"
  },
  {
   "cell_type": "markdown",
   "id": "5202dfd4-410f-4447-8f74-a92af06e6859",
   "metadata": {},
   "source": [
    "Note that running this entire notebook will take you around 2 to 3 hours.\n",
    "\n",
    "To be able to use regioinvent, you will need:\n",
    "- to install the brightway2 Python library (brightway2 and NOT brightway2.5), easier is to get it through activity-browser: https://github.com/LCA-ActivityBrowser/activity-browser\n",
    "- a brightway project within which there is an ecoinvent database with either the version 3.9.1/3.10 cutoff\n",
    "- to download the trade database stored here: https://doi.org/10.5281/zenodo.11583814"
   ]
  },
  {
   "metadata": {
    "ExecuteTime": {
     "end_time": "2025-02-21T15:04:04.786048Z",
     "start_time": "2025-02-21T15:03:58.486897Z"
    }
   },
   "cell_type": "code",
   "source": [
    "import pandas as pd\n",
    "import numpy as np\n",
    "import sys\n",
    "# change the path here to wherever you stored the Regiopremise Python package\n",
    "sys.path.append(r'C:\\Users\\mp_ma\\OneDrive - polymtlus\\Desktop\\POST_DOC\\Modules\\Regiopremise-v1.2.1\\matthieu-str-Regiopremise-0f61aa6')\n",
    "import regioinvent"
   ],
   "id": "01366db1-cbce-449b-839e-dbcc07ad2a28",
   "outputs": [],
   "execution_count": 1
  },
  {
   "cell_type": "markdown",
   "id": "7af64753-f347-47c8-a7c6-1566f2a33388",
   "metadata": {},
   "source": [
    "The initialization of the Regioinvent class requires 3 arguments:\n",
    "- the name of the brightway2 project where you store ecoinvent and where regioinvent will be added\n",
    "- the name you gave your ecoinvent database within your brightway2 project\n",
    "- the version of the ecoinvent database ('3.9.1', '3.10' or '3.10.1')"
   ]
  },
  {
   "metadata": {
    "ExecuteTime": {
     "end_time": "2025-02-21T15:04:04.796204Z",
     "start_time": "2025-02-21T15:04:04.791097Z"
    }
   },
   "cell_type": "code",
   "source": [
    "bw_project = 'plca_metals'\n",
    "ei_version = '3.10'"
   ],
   "id": "f430f9f48fdfd3f6",
   "outputs": [],
   "execution_count": 2
  },
  {
   "metadata": {},
   "cell_type": "markdown",
   "source": "# Apply Regiopremise class for each scenarios and year",
   "id": "7cad273f8fe9aa4e"
  },
  {
   "metadata": {},
   "cell_type": "markdown",
   "source": [
    "First step of regioinvent is to spatialize the original ecoinvent database. This entails multiple steps:\n",
    "- Creating a new biosphere database for spatialized elementary flows (e.g., Ammonia, CA-QC)\n",
    "- Spatializing the elementary flows used within the ecoinvent database, based on the location of the process itself\n",
    "- Fixing water processes of ecoinvent creating imbalances (e.g., apple production in Chile calls irrigation, RoW -> imbalance)"
   ],
   "id": "38a9e48d6a7ea1a4"
  },
  {
   "metadata": {},
   "cell_type": "markdown",
   "source": [
    "This creates two databases in your brightway2 project:\n",
    "- \"biosphere3_spatialized_flows\", which contains all the newly created spatialized elementary flows\n",
    "- \"the-name-of-your-premise-database regionalized\", which is a copy of the original premise database but using spatialized elementary flows and boasting new processes to fix water modeling"
   ],
   "id": "1152dfbfeb83e2f9"
  },
  {
   "metadata": {},
   "cell_type": "markdown",
   "source": "## SPS",
   "id": "b6985386d3e9db83"
  },
  {
   "cell_type": "code",
   "id": "4e670c3f-94b4-4186-a72e-3948e35c1fac",
   "metadata": {
    "ExecuteTime": {
     "end_time": "2025-02-21T15:04:05.298462Z",
     "start_time": "2025-02-21T15:04:04.870095Z"
    }
   },
   "source": [
    "regio_sps2022 = regioinvent.Regiopremise(\n",
    "    bw_project_name=bw_project, \n",
    "    premise_database_name=f'SPS_2022', \n",
    "    ecoinvent_database_name=f'ecoinvent-{ei_version}-cutoff',\n",
    "    ecoinvent_version=ei_version,\n",
    ")"
   ],
   "outputs": [],
   "execution_count": 3
  },
  {
   "metadata": {
    "ExecuteTime": {
     "end_time": "2025-02-21T15:04:05.811062Z",
     "start_time": "2025-02-21T15:04:05.311168Z"
    }
   },
   "cell_type": "code",
   "source": [
    "regio_sps2025 = regioinvent.Regiopremise(\n",
    "    bw_project_name=bw_project, \n",
    "    premise_database_name=f'SPS_2025', \n",
    "    ecoinvent_database_name=f'ecoinvent-{ei_version}-cutoff',\n",
    "    ecoinvent_version=ei_version,\n",
    ")"
   ],
   "id": "201163014996ce7a",
   "outputs": [],
   "execution_count": 4
  },
  {
   "metadata": {
    "ExecuteTime": {
     "end_time": "2025-02-21T15:04:06.401507Z",
     "start_time": "2025-02-21T15:04:05.830604Z"
    }
   },
   "cell_type": "code",
   "source": [
    "regio_sps2030 = regioinvent.Regiopremise(\n",
    "    bw_project_name=bw_project, \n",
    "    premise_database_name=f'SPS_2030', \n",
    "    ecoinvent_database_name=f'ecoinvent-{ei_version}-cutoff',\n",
    "    ecoinvent_version=ei_version,\n",
    ")"
   ],
   "id": "957cd73145d19e63",
   "outputs": [],
   "execution_count": 5
  },
  {
   "metadata": {
    "ExecuteTime": {
     "end_time": "2025-02-21T15:04:06.926580Z",
     "start_time": "2025-02-21T15:04:06.416034Z"
    }
   },
   "cell_type": "code",
   "source": [
    "regio_sps2035 = regioinvent.Regiopremise(\n",
    "    bw_project_name=bw_project, \n",
    "    premise_database_name=f'SPS_2035', \n",
    "    ecoinvent_database_name=f'ecoinvent-{ei_version}-cutoff',\n",
    "    ecoinvent_version=ei_version,\n",
    ")"
   ],
   "id": "1a25e68d64316342",
   "outputs": [],
   "execution_count": 6
  },
  {
   "metadata": {
    "ExecuteTime": {
     "end_time": "2025-02-21T15:04:07.327771Z",
     "start_time": "2025-02-21T15:04:06.937950Z"
    }
   },
   "cell_type": "code",
   "source": [
    "regio_sps2040 = regioinvent.Regiopremise(\n",
    "    bw_project_name=bw_project, \n",
    "    premise_database_name=f'SPS_2040', \n",
    "    ecoinvent_database_name=f'ecoinvent-{ei_version}-cutoff',\n",
    "    ecoinvent_version=ei_version,\n",
    ")"
   ],
   "id": "e5a9c505394e5dfa",
   "outputs": [],
   "execution_count": 7
  },
  {
   "metadata": {
    "ExecuteTime": {
     "end_time": "2025-02-21T15:04:07.716502Z",
     "start_time": "2025-02-21T15:04:07.340551Z"
    }
   },
   "cell_type": "code",
   "source": [
    "regio_sps2045 = regioinvent.Regiopremise(\n",
    "    bw_project_name=bw_project, \n",
    "    premise_database_name=f'SPS_2045', \n",
    "    ecoinvent_database_name=f'ecoinvent-{ei_version}-cutoff',\n",
    "    ecoinvent_version=ei_version,\n",
    ")"
   ],
   "id": "c8b458f989c8c7eb",
   "outputs": [],
   "execution_count": 8
  },
  {
   "metadata": {
    "ExecuteTime": {
     "end_time": "2025-02-21T15:04:08.151851Z",
     "start_time": "2025-02-21T15:04:07.759571Z"
    }
   },
   "cell_type": "code",
   "source": [
    "regio_sps2050 = regioinvent.Regiopremise(\n",
    "    bw_project_name=bw_project, \n",
    "    premise_database_name=f'SPS_2050', \n",
    "    ecoinvent_database_name=f'ecoinvent-{ei_version}-cutoff',\n",
    "    ecoinvent_version=ei_version,\n",
    ")"
   ],
   "id": "83a15df47e8b0ef3",
   "outputs": [],
   "execution_count": 9
  },
  {
   "metadata": {},
   "cell_type": "markdown",
   "source": "## NZE",
   "id": "7628782d59eb6aaf"
  },
  {
   "metadata": {
    "ExecuteTime": {
     "end_time": "2025-02-21T15:04:08.478817Z",
     "start_time": "2025-02-21T15:04:08.159056Z"
    }
   },
   "cell_type": "code",
   "source": [
    "regio_nze2022 = regioinvent.Regiopremise(\n",
    "    bw_project_name=bw_project, \n",
    "    premise_database_name=f'NZE_2022', \n",
    "    ecoinvent_database_name=f'ecoinvent-{ei_version}-cutoff',\n",
    "    ecoinvent_version=ei_version,\n",
    ")"
   ],
   "id": "a2f7a250043ac701",
   "outputs": [],
   "execution_count": 10
  },
  {
   "metadata": {
    "ExecuteTime": {
     "end_time": "2025-02-21T15:04:08.875718Z",
     "start_time": "2025-02-21T15:04:08.492529Z"
    }
   },
   "cell_type": "code",
   "source": [
    "regio_nze2025 = regioinvent.Regiopremise(\n",
    "    bw_project_name=bw_project, \n",
    "    premise_database_name=f'NZE_2025', \n",
    "    ecoinvent_database_name=f'ecoinvent-{ei_version}-cutoff',\n",
    "    ecoinvent_version=ei_version,\n",
    ")"
   ],
   "id": "8b6e1c3facdbd739",
   "outputs": [],
   "execution_count": 11
  },
  {
   "metadata": {
    "ExecuteTime": {
     "end_time": "2025-02-21T15:04:09.259894Z",
     "start_time": "2025-02-21T15:04:08.883421Z"
    }
   },
   "cell_type": "code",
   "source": [
    "regio_nze2030 = regioinvent.Regiopremise(\n",
    "    bw_project_name=bw_project, \n",
    "    premise_database_name=f'NZE_2030', \n",
    "    ecoinvent_database_name=f'ecoinvent-{ei_version}-cutoff',\n",
    "    ecoinvent_version=ei_version,\n",
    ")"
   ],
   "id": "5d762d3cca4e0b73",
   "outputs": [],
   "execution_count": 12
  },
  {
   "metadata": {
    "ExecuteTime": {
     "end_time": "2025-02-21T15:04:09.739181Z",
     "start_time": "2025-02-21T15:04:09.295379Z"
    }
   },
   "cell_type": "code",
   "source": [
    "regio_nze2035 = regioinvent.Regiopremise(\n",
    "    bw_project_name=bw_project, \n",
    "    premise_database_name=f'NZE_2035', \n",
    "    ecoinvent_database_name=f'ecoinvent-{ei_version}-cutoff',\n",
    "    ecoinvent_version=ei_version,\n",
    ")"
   ],
   "id": "10f557b035f0fe53",
   "outputs": [],
   "execution_count": 13
  },
  {
   "metadata": {
    "ExecuteTime": {
     "end_time": "2025-02-21T15:04:10.118718Z",
     "start_time": "2025-02-21T15:04:09.748963Z"
    }
   },
   "cell_type": "code",
   "source": [
    "regio_nze2040 = regioinvent.Regiopremise(\n",
    "    bw_project_name=bw_project, \n",
    "    premise_database_name=f'NZE_2040', \n",
    "    ecoinvent_database_name=f'ecoinvent-{ei_version}-cutoff',\n",
    "    ecoinvent_version=ei_version,\n",
    ")"
   ],
   "id": "fb54ab765fb2c092",
   "outputs": [],
   "execution_count": 14
  },
  {
   "metadata": {
    "ExecuteTime": {
     "end_time": "2025-02-21T15:04:10.433931Z",
     "start_time": "2025-02-21T15:04:10.126761Z"
    }
   },
   "cell_type": "code",
   "source": [
    "regio_nze2045 = regioinvent.Regiopremise(\n",
    "    bw_project_name=bw_project, \n",
    "    premise_database_name=f'NZE_2045', \n",
    "    ecoinvent_database_name=f'ecoinvent-{ei_version}-cutoff',\n",
    "    ecoinvent_version=ei_version,\n",
    ")"
   ],
   "id": "eeabf9cb47faaf04",
   "outputs": [],
   "execution_count": 15
  },
  {
   "metadata": {
    "ExecuteTime": {
     "end_time": "2025-02-21T15:04:10.791315Z",
     "start_time": "2025-02-21T15:04:10.447661Z"
    }
   },
   "cell_type": "code",
   "source": [
    "regio_nze2050 = regioinvent.Regiopremise(\n",
    "    bw_project_name=bw_project, \n",
    "    premise_database_name=f'NZE_2050', \n",
    "    ecoinvent_database_name=f'ecoinvent-{ei_version}-cutoff',\n",
    "    ecoinvent_version=ei_version,\n",
    ")"
   ],
   "id": "25b176d1d13cca51",
   "outputs": [],
   "execution_count": 16
  },
  {
   "metadata": {},
   "cell_type": "markdown",
   "source": "# Spatialization",
   "id": "3fb42aacc4f9f48c"
  },
  {
   "metadata": {},
   "cell_type": "markdown",
   "source": "## SPS",
   "id": "5b000c0d14d9b06b"
  },
  {
   "metadata": {},
   "cell_type": "markdown",
   "source": "### Fix IAM locations ",
   "id": "e0d12e9fd7f4fa7a"
  },
  {
   "metadata": {
    "ExecuteTime": {
     "end_time": "2025-02-21T15:04:21.259516Z",
     "start_time": "2025-02-21T15:04:14.882970Z"
    }
   },
   "cell_type": "code",
   "source": "regio_sps2022.fix_iam_location_codes()",
   "id": "d45b8ef757071c22",
   "outputs": [],
   "execution_count": 17
  },
  {
   "metadata": {
    "ExecuteTime": {
     "end_time": "2025-02-21T15:04:25.451200Z",
     "start_time": "2025-02-21T15:04:21.263416Z"
    }
   },
   "cell_type": "code",
   "source": "regio_sps2025.fix_iam_location_codes()",
   "id": "e6b23af4d56094c5",
   "outputs": [],
   "execution_count": 18
  },
  {
   "metadata": {
    "ExecuteTime": {
     "end_time": "2025-02-21T15:04:30.879473Z",
     "start_time": "2025-02-21T15:04:25.462883Z"
    }
   },
   "cell_type": "code",
   "source": "regio_sps2030.fix_iam_location_codes()",
   "id": "b588cd5e41e50731",
   "outputs": [],
   "execution_count": 19
  },
  {
   "metadata": {
    "ExecuteTime": {
     "end_time": "2025-02-21T15:04:37.099930Z",
     "start_time": "2025-02-21T15:04:30.889260Z"
    }
   },
   "cell_type": "code",
   "source": "regio_sps2035.fix_iam_location_codes()",
   "id": "830e8e3fd20fb240",
   "outputs": [],
   "execution_count": 20
  },
  {
   "metadata": {
    "ExecuteTime": {
     "end_time": "2025-02-21T15:04:40.258302Z",
     "start_time": "2025-02-21T15:04:37.109785Z"
    }
   },
   "cell_type": "code",
   "source": "regio_sps2040.fix_iam_location_codes()",
   "id": "ccfcd7a99e210f2e",
   "outputs": [],
   "execution_count": 21
  },
  {
   "metadata": {
    "ExecuteTime": {
     "end_time": "2025-02-21T15:04:44.916035Z",
     "start_time": "2025-02-21T15:04:40.266325Z"
    }
   },
   "cell_type": "code",
   "source": "regio_sps2045.fix_iam_location_codes()",
   "id": "e4135f50fa1efb6a",
   "outputs": [],
   "execution_count": 22
  },
  {
   "metadata": {
    "ExecuteTime": {
     "end_time": "2025-02-21T15:04:49.603251Z",
     "start_time": "2025-02-21T15:04:44.949674Z"
    }
   },
   "cell_type": "code",
   "source": "regio_sps2050.fix_iam_location_codes()",
   "id": "64c2ba28bd36c4e2",
   "outputs": [],
   "execution_count": 23
  },
  {
   "metadata": {},
   "cell_type": "markdown",
   "source": "### Spatialize premise databases",
   "id": "d04c490e72e1e80"
  },
  {
   "metadata": {
    "jupyter": {
     "is_executing": true
    },
    "ExecuteTime": {
     "start_time": "2025-02-21T15:14:38.783749Z"
    }
   },
   "cell_type": "code",
   "source": "regio_sps2022.spatialize_my_premise()",
   "id": "1157f95ffbcf008d",
   "outputs": [
    {
     "name": "stderr",
     "output_type": "stream",
     "text": [
      "2025-02-21 10:14:38,785 - Regioinvent - INFO - biosphere3_spatialized_flows already exists in this project.\n",
      "2025-02-21 10:14:38,787 - Regioinvent - INFO - Extracting premise to wurst...\n"
     ]
    },
    {
     "name": "stdout",
     "output_type": "stream",
     "text": [
      "Getting activity data\n"
     ]
    },
    {
     "name": "stderr",
     "output_type": "stream",
     "text": [
      "100%|██████████| 25831/25831 [00:00<00:00, 101173.32it/s]\n"
     ]
    },
    {
     "name": "stdout",
     "output_type": "stream",
     "text": [
      "Adding exchange data to activities\n"
     ]
    },
    {
     "name": "stderr",
     "output_type": "stream",
     "text": [
      " 44%|████▍     | 351142/798820 [00:10<00:12, 36007.94it/s]"
     ]
    }
   ],
   "execution_count": null
  },
  {
   "metadata": {},
   "cell_type": "code",
   "outputs": [],
   "execution_count": null,
   "source": "regio_sps2025.spatialize_my_premise()",
   "id": "34c939a1f8be408f"
  },
  {
   "metadata": {},
   "cell_type": "code",
   "outputs": [],
   "execution_count": null,
   "source": "regio_sps2030.spatialize_my_premise()",
   "id": "9bfc1660648357d6"
  },
  {
   "metadata": {},
   "cell_type": "code",
   "outputs": [],
   "execution_count": null,
   "source": "regio_sps2035.spatialize_my_premise()",
   "id": "5d7fdd0e08ef3914"
  },
  {
   "metadata": {},
   "cell_type": "code",
   "outputs": [],
   "execution_count": null,
   "source": "regio_sps2040.spatialize_my_premise()",
   "id": "306eccb260953d09"
  },
  {
   "metadata": {},
   "cell_type": "code",
   "outputs": [],
   "execution_count": null,
   "source": "regio_sps2045.spatialize_my_premise()",
   "id": "379afdd0f6b90335"
  },
  {
   "metadata": {},
   "cell_type": "code",
   "outputs": [],
   "execution_count": null,
   "source": "regio_sps2050.spatialize_my_premise()",
   "id": "3731528d7e182629"
  },
  {
   "metadata": {},
   "cell_type": "markdown",
   "source": "## NZE",
   "id": "53fbc51cc5da4e82"
  },
  {
   "metadata": {},
   "cell_type": "code",
   "outputs": [],
   "execution_count": null,
   "source": [
    "regio_nze2022.fix_iam_location_codes()\n",
    "regio_nze2025.fix_iam_location_codes()\n",
    "regio_nze2030.fix_iam_location_codes()\n",
    "regio_nze2035.fix_iam_location_codes()\n",
    "regio_nze2040.fix_iam_location_codes()\n",
    "regio_nze2045.fix_iam_location_codes()\n",
    "#regio_nze2050.fix_iam_location_codes()"
   ],
   "id": "381b53c4eae91d85"
  },
  {
   "metadata": {},
   "cell_type": "code",
   "outputs": [],
   "execution_count": null,
   "source": "regio_nze2022.spatialize_my_premise()",
   "id": "1f430c893b4b47be"
  },
  {
   "metadata": {},
   "cell_type": "code",
   "outputs": [],
   "execution_count": null,
   "source": "regio_nze2025.spatialize_my_premise()",
   "id": "f8dd0bbe0efd7c3f"
  },
  {
   "metadata": {},
   "cell_type": "code",
   "outputs": [],
   "execution_count": null,
   "source": "regio_nze2030.spatialize_my_premise()",
   "id": "36bfd72bb0559660"
  },
  {
   "metadata": {},
   "cell_type": "code",
   "outputs": [],
   "execution_count": null,
   "source": "regio_nze2035.spatialize_my_premise()",
   "id": "49faee0007f7ccb4"
  },
  {
   "metadata": {},
   "cell_type": "code",
   "outputs": [],
   "execution_count": null,
   "source": "regio_nze2040.spatialize_my_premise()",
   "id": "76330f5e0a1b6aa4"
  },
  {
   "metadata": {},
   "cell_type": "code",
   "outputs": [],
   "execution_count": null,
   "source": "regio_nze2045.spatialize_my_premise()",
   "id": "6dbf459aa3ada719"
  },
  {
   "metadata": {},
   "cell_type": "code",
   "outputs": [],
   "execution_count": null,
   "source": "regio_nze2050.spatialize_my_premise()",
   "id": "7b4df6a54bf5baa2"
  },
  {
   "metadata": {},
   "cell_type": "markdown",
   "source": "# Import IW+2.1",
   "id": "a8df87e7e11c4953"
  },
  {
   "cell_type": "markdown",
   "id": "426da23b-5d0d-4488-b9a4-fe706b10b2ff",
   "metadata": {},
   "source": [
    "Because elementary flows are now spatialize, you will need a specific LCIA method to operate with any flow (spatialized or not). The following function imports such methods. Currently available: \"IW v2.1\". Soon available: \"EF v3.1\" and \"ReCiPe2016 v1.1 (E)\"."
   ]
  },
  {
   "cell_type": "code",
   "id": "716d3cc7-e9c1-48f9-9e47-8d9e285cca24",
   "metadata": {
    "ExecuteTime": {
     "end_time": "2025-02-21T14:43:56.897031500Z",
     "start_time": "2025-02-21T13:54:28.627790Z"
    }
   },
   "source": "regio_nze2050.import_fully_regionalized_impact_method(lcia_method='IW v2.1')",
   "outputs": [
    {
     "name": "stderr",
     "output_type": "stream",
     "text": [
      "2025-02-21 08:54:28,630 - Regioinvent - INFO - Importing the fully regionalized version of IMPACT World+ v2.1 for ecoinvent3.10.\n"
     ]
    }
   ],
   "execution_count": 7
  },
  {
   "cell_type": "markdown",
   "id": "c05ffb4b-4f6c-4eae-b6b8-0d25f8ff1560",
   "metadata": {},
   "source": [
    "If you want to go further in the regionalization, i.e., to create new national production processes and to rely on trade data to regionalize consumption markets of ecoinvent, you can run the next function. There are 3 arguments:\n",
    "- _trade_database_path_ which is the path where you stored the trade database you downloaded from Zenodo: https://doi.org/10.5281/zenodo.11583814\n",
    "- _regioinvent_database_name_ which is simply the name that the created database will take\n",
    "- _cutoff_ which is the cut-off (between 0 and 1) beyond which countries will be aggreated as RoW. For more info on what cutoff does, see section \"Selection of countries for regionalization\" of the Methodology.md file."
   ]
  },
  {
   "metadata": {},
   "cell_type": "markdown",
   "source": "# Go further with trade DB if needed",
   "id": "32daf0a111fe79b9"
  },
  {
   "cell_type": "code",
   "id": "12fe15f4-e3e4-439a-9938-dbffc90ae286",
   "metadata": {
    "ExecuteTime": {
     "end_time": "2025-02-21T14:43:56.897031500Z",
     "start_time": "2025-02-10T14:43:20.676104Z"
    }
   },
   "source": [
    "regio.regionalize_premise_with_trade(\n",
    "    trade_database_path=r'C:\\Users\\matth\\PycharmProjects\\Regiopremise\\trade_data.db',\n",
    "    regioinvent_database_name=f'regioinvent_cutoff_{ei_version}_image_SSP2-Base_{year}+truck_carculator',\n",
    "    cutoff=0.95,\n",
    ")"
   ],
   "outputs": [
    {
     "name": "stderr",
     "output_type": "stream",
     "text": [
      "2025-02-10 09:43:20,709 - Regioinvent - INFO - Extracting and formatting trade data...\n",
      "2025-02-10 09:46:21,255 - Regioinvent - INFO - Regionalizing main inputs of traded products of ecoinvent...\n",
      "100%|██████████| 1982/1982 [44:34<00:00,  1.35s/it] \n",
      "2025-02-10 10:30:56,117 - Regioinvent - INFO - Creating consumption markets...\n",
      "100%|██████████| 1982/1982 [27:21<00:00,  1.21it/s] \n",
      "2025-02-10 10:58:18,341 - Regioinvent - INFO - Performing second order regionalization...\n",
      "2025-02-10 10:58:47,794 - Regioinvent - INFO - Regionalizing the elementary flows of the regioinvent database...\n",
      "Writing activities to SQLite3 database:\n",
      "0% [##############################] 100% | ETA: 00:00:00\n",
      "Total time elapsed: 00:12:32\n"
     ]
    },
    {
     "name": "stdout",
     "output_type": "stream",
     "text": [
      "Title: Writing activities to SQLite3 database:\n",
      "  Started: 02/10/2025 11:01:50\n",
      "  Finished: 02/10/2025 11:14:22\n",
      "  Total time elapsed: 00:12:32\n",
      "  CPU %: 87.00\n",
      "  Memory %: 35.58\n"
     ]
    },
    {
     "name": "stderr",
     "output_type": "stream",
     "text": [
      "2025-02-10 11:55:32,382 - Regioinvent - INFO - Connecting ecoinvent to regioinvent processes...\n"
     ]
    }
   ],
   "execution_count": 7
  },
  {
   "cell_type": "markdown",
   "id": "2ed15eb4-8103-4575-9c02-1a0442efe5ec",
   "metadata": {},
   "source": [
    "This automatically wrote the regioinvent database in your brightway project. So you can now go on brightway2 or AB to perform your LCAs normally with regioinvent."
   ]
  }
 ],
 "metadata": {
  "kernelspec": {
   "display_name": "Python 3 (ipykernel)",
   "language": "python",
   "name": "python3"
  },
  "language_info": {
   "codemirror_mode": {
    "name": "ipython",
    "version": 3
   },
   "file_extension": ".py",
   "mimetype": "text/x-python",
   "name": "python",
   "nbconvert_exporter": "python",
   "pygments_lexer": "ipython3",
   "version": "3.11.8"
  }
 },
 "nbformat": 4,
 "nbformat_minor": 5
}
