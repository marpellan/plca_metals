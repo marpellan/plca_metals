{
 "cells": [
  {
   "cell_type": "code",
   "id": "initial_id",
   "metadata": {
    "collapsed": true,
    "ExecuteTime": {
     "end_time": "2025-02-21T21:18:11.867858Z",
     "start_time": "2025-02-21T21:18:00.784892Z"
    }
   },
   "source": [
    "import pyam\n",
    "import pandas as pd"
   ],
   "outputs": [],
   "execution_count": 1
  },
  {
   "metadata": {},
   "cell_type": "markdown",
   "source": "The **pyam** package enables easy data access and processing of IIASA scenario tools and resources",
   "id": "fc7716947c7bb50b"
  },
  {
   "metadata": {
    "ExecuteTime": {
     "end_time": "2025-02-21T21:18:13.494506Z",
     "start_time": "2025-02-21T21:18:11.879337Z"
    }
   },
   "cell_type": "code",
   "source": "pyam.iiasa.platforms()",
   "id": "82be81b4b528fb4",
   "outputs": [
    {
     "name": "stderr",
     "output_type": "stream",
     "text": [
      "[INFO] 16:18:11 - ixmp4.conf.auth: Connecting to service anonymously and without credentials.\n"
     ]
    },
    {
     "name": "stdout",
     "output_type": "stream",
     "text": [
      "\n",
      "Platforms accessible via '\u001B[36mhttps://api.manager.ece.iiasa.ac.at/v1\u001B[0m'\n",
      "\n",
      "Name                Access    Notice\n",
      "\u001B[35mpublic-test         \u001B[0mpublic    This is a public ixmp4 test instance hosted by the IIA... \n",
      "\u001B[35mecemf               \u001B[0mpublic    This is the public database instance for the Horizon 2... \n",
      "\u001B[35mssp-extensions      \u001B[0mpublic    This is the SSP-Extensions project database. All data ... \n",
      "\u001B[35mssp                 \u001B[0mpublic    This platform has the \"basic drivers\", i.e., GDP and p... \n",
      "\u001B[35msocdr               \u001B[0mpublic    This platform contains the data for the \"State of CDR ... \n",
      "\u001B[35mshape               \u001B[0mpublic    This database has key scenarios developed by the SHAPE... \n",
      "\u001B[35mnavigate            \u001B[0mpublic    This platform contains the data for the \"NAVIGATE\" Sce... \n",
      "\u001B[35mgenie               \u001B[0mpublic    GENIE Knowledge Hubs                                      \n",
      "Total: \u001B[32m8\u001B[0m\n"
     ]
    }
   ],
   "execution_count": 2
  },
  {
   "metadata": {
    "ExecuteTime": {
     "end_time": "2025-02-21T21:18:15.574830Z",
     "start_time": "2025-02-21T21:18:14.388363Z"
    }
   },
   "cell_type": "code",
   "source": [
    "conn = pyam.iiasa.Connection()\n",
    "conn.valid_connections"
   ],
   "id": "ca1d493bcc8e1d67",
   "outputs": [
    {
     "name": "stderr",
     "output_type": "stream",
     "text": [
      "[INFO] 16:18:15 - pyam.iiasa: You are connected as an anonymous user\n",
      "[WARNING] 16:18:15 - pyam.iiasa: IIASA is migrating to a database infrastructure using the ixmp4 package.Use `pyam.iiasa.platforms()` to list available ixmp4 databases.\n"
     ]
    },
    {
     "data": {
      "text/plain": [
       "['ngfs_phase_3',\n",
       " 'iamc15',\n",
       " 'openentrance',\n",
       " 'nexus_basins',\n",
       " 'integration-test',\n",
       " 'cdlinks',\n",
       " 'india_scenario_hub',\n",
       " 'genie',\n",
       " 'hotspots',\n",
       " 'ngfs_phase_4',\n",
       " 'commit',\n",
       " 'kopernikus_public',\n",
       " 'senses',\n",
       " 'aqnea',\n",
       " 'navigate',\n",
       " 'climate_solutions',\n",
       " 'eu-climate-advisory-board',\n",
       " 'engage',\n",
       " 'nca5',\n",
       " 'ar6-public',\n",
       " 'deeds',\n",
       " 'ngfs_phase_5',\n",
       " 'ngfs_phase_2',\n",
       " 'gei',\n",
       " 'netzero2040',\n",
       " 'ripples',\n",
       " 'ssp',\n",
       " 'set_nav',\n",
       " 'ariadne',\n",
       " 'paris_lttg']"
      ]
     },
     "execution_count": 3,
     "metadata": {},
     "output_type": "execute_result"
    }
   ],
   "execution_count": 3
  },
  {
   "metadata": {},
   "cell_type": "markdown",
   "source": "## SSP database",
   "id": "ffdeb6c64d79680f"
  },
  {
   "metadata": {
    "ExecuteTime": {
     "end_time": "2025-02-21T21:18:54.849692Z",
     "start_time": "2025-02-21T21:18:53.653638Z"
    }
   },
   "cell_type": "code",
   "source": "conn_ssp = pyam.iiasa.Connection('ssp')",
   "id": "285bacfb68899fb5",
   "outputs": [
    {
     "name": "stderr",
     "output_type": "stream",
     "text": [
      "[INFO] 16:18:54 - pyam.iiasa: You are connected to the IXSE_SSP scenario explorer hosted by IIASA. If you use this data in any published format, please cite the data as provided in the explorer guidelines: https://data.ece.iiasa.ac.at/ssp/#/about\n",
      "[INFO] 16:18:54 - pyam.iiasa: You are connected as an anonymous user\n"
     ]
    }
   ],
   "execution_count": 4
  },
  {
   "metadata": {
    "ExecuteTime": {
     "end_time": "2025-02-21T21:18:56.733410Z",
     "start_time": "2025-02-21T21:18:55.624943Z"
    }
   },
   "cell_type": "code",
   "source": "conn_ssp.models()",
   "id": "cdfb613fa688070c",
   "outputs": [
    {
     "data": {
      "text/plain": [
       "0       IIASA-WiC POP 2023\n",
       "1     OECD ENV-Growth 2023\n",
       "2    CDM Urbanization 2024\n",
       "3           IIASA GDP 2023\n",
       "Name: model, dtype: object"
      ]
     },
     "execution_count": 5,
     "metadata": {},
     "output_type": "execute_result"
    }
   ],
   "execution_count": 5
  },
  {
   "metadata": {
    "ExecuteTime": {
     "end_time": "2025-02-21T21:19:02.556182Z",
     "start_time": "2025-02-21T21:19:01.828401Z"
    }
   },
   "cell_type": "code",
   "source": "conn_ssp.scenarios()",
   "id": "cfd13bb2a1ba5e15",
   "outputs": [
    {
     "data": {
      "text/plain": [
       "0                      SSP1\n",
       "1                      SSP2\n",
       "2                      SSP3\n",
       "3                      SSP4\n",
       "4                      SSP5\n",
       "5      Historical Reference\n",
       "6     SSP1 - Review Phase 3\n",
       "7     SSP2 - Review Phase 3\n",
       "8     SSP3 - Review Phase 3\n",
       "9     SSP4 - Review Phase 3\n",
       "10    SSP5 - Review Phase 3\n",
       "Name: scenario, dtype: object"
      ]
     },
     "execution_count": 6,
     "metadata": {},
     "output_type": "execute_result"
    }
   ],
   "execution_count": 6
  },
  {
   "metadata": {
    "ExecuteTime": {
     "end_time": "2025-02-21T21:26:58.857841Z",
     "start_time": "2025-02-21T21:26:58.354191Z"
    }
   },
   "cell_type": "code",
   "source": "conn_ssp.regions()",
   "id": "a9264bce6e3ba7ad",
   "outputs": [
    {
     "data": {
      "text/plain": [
       "0                          World\n",
       "1      Reforming Economies (R10)\n",
       "2             Rest of Asia (R10)\n",
       "3                    Other (R10)\n",
       "4                          Aruba\n",
       "                 ...            \n",
       "272                 India+ (R10)\n",
       "273          Latin America (R10)\n",
       "274            Middle East (R10)\n",
       "275          North America (R10)\n",
       "276           Pacific OECD (R10)\n",
       "Name: region, Length: 277, dtype: object"
      ]
     },
     "execution_count": 14,
     "metadata": {},
     "output_type": "execute_result"
    }
   ],
   "execution_count": 14
  },
  {
   "metadata": {
    "ExecuteTime": {
     "end_time": "2025-02-21T21:20:21.011599Z",
     "start_time": "2025-02-21T21:20:21.000144Z"
    }
   },
   "cell_type": "code",
   "source": [
    "ssp_variables = conn_ssp.variables()\n",
    "ssp_variables.to_csv(r'ssp_variables.csv', index=False)"
   ],
   "id": "5baae46859da9ff7",
   "outputs": [],
   "execution_count": 9
  },
  {
   "metadata": {
    "ExecuteTime": {
     "end_time": "2025-02-21T21:24:46.190740Z",
     "start_time": "2025-02-21T21:24:43.638826Z"
    }
   },
   "cell_type": "code",
   "source": [
    "df_ssp = pyam.read_iiasa(\n",
    "    \"ssp\",\n",
    "    variable=[\"GDP|PPP\", \"GDP|PPP [per capita]\", \"Population\", \"Population|Urban|Share\", \"Population|Urban [Share]\"],\n",
    "    region=\"World\",\n",
    "    meta=True,\n",
    ")"
   ],
   "id": "ac31ee03e043e13c",
   "outputs": [
    {
     "name": "stderr",
     "output_type": "stream",
     "text": [
      "[INFO] 16:24:44 - ixmp4.data.backend.api: Connected to IXMP4 Platform 'ssp'\n",
      "[WARNING] 16:24:44 - ixmp4.data.backend.api: IXMP4 Client and Server versions do not match. (Client: 0.9.2, Server: 0.9.6)\n",
      "[INFO] 16:24:44 - ixmp4.data.backend.api: Platform notice: >\n",
      "This platform has the \"basic drivers\", i.e., GDP and population projections, of the Shared Socioeconomic Pathways or \"SSPs\" (version 3.0.1, release March 2024). The projections are publicly available under a license that allows for the re-use by other research communities. Please visit https://data.ece.iiasa.ac.at/ssp for more information.\n"
     ]
    }
   ],
   "execution_count": 11
  },
  {
   "metadata": {
    "ExecuteTime": {
     "end_time": "2025-02-21T21:29:04.092896Z",
     "start_time": "2025-02-21T21:29:04.077581Z"
    }
   },
   "cell_type": "code",
   "source": "df_ssp.timeseries().reset_index().to_csv(r'df_ssp.csv', index=False)",
   "id": "4211da44b7eb3e12",
   "outputs": [],
   "execution_count": 17
  },
  {
   "metadata": {},
   "cell_type": "markdown",
   "source": "## AR6 database",
   "id": "73c79a9d25cd5780"
  },
  {
   "metadata": {
    "ExecuteTime": {
     "end_time": "2025-02-21T21:31:14.453443Z",
     "start_time": "2025-02-21T21:31:13.098696Z"
    }
   },
   "cell_type": "code",
   "source": "conn_ar6 = pyam.iiasa.Connection('ar6-public')",
   "id": "b45d2f003b8ce021",
   "outputs": [
    {
     "name": "stderr",
     "output_type": "stream",
     "text": [
      "[INFO] 16:31:14 - pyam.iiasa: You are connected to the IXSE_AR6_PUBLIC scenario explorer hosted by IIASA. If you use this data in any published format, please cite the data as provided in the explorer guidelines: https://data.ece.iiasa.ac.at/ar6/#/about\n",
      "[INFO] 16:31:14 - pyam.iiasa: You are connected as an anonymous user\n"
     ]
    }
   ],
   "execution_count": 19
  },
  {
   "metadata": {
    "ExecuteTime": {
     "end_time": "2025-02-21T21:31:27.141362Z",
     "start_time": "2025-02-21T21:31:27.132962Z"
    }
   },
   "cell_type": "code",
   "source": "conn_ar6",
   "id": "77873865e6d75d3a",
   "outputs": [
    {
     "data": {
      "text/plain": [
       "<pyam.iiasa.Connection at 0x2067810ed90>"
      ]
     },
     "execution_count": 20,
     "metadata": {},
     "output_type": "execute_result"
    }
   ],
   "execution_count": 20
  },
  {
   "metadata": {
    "ExecuteTime": {
     "end_time": "2025-02-21T21:32:20.618867Z",
     "start_time": "2025-02-21T21:32:15.352686Z"
    }
   },
   "cell_type": "code",
   "source": "conn_ar6.models()",
   "id": "1f9297bdeba43f",
   "outputs": [
    {
     "data": {
      "text/plain": [
       "0                                    GENeSYS-MOD 1.0\n",
       "1                                        AIM/CGE 2.2\n",
       "2                                         COFFEE 1.1\n",
       "3                                           GCAM 5.3\n",
       "4                                        GCAM-PR 5.3\n",
       "                           ...                      \n",
       "184    IEA Energy Technology Perspectives Model 2020\n",
       "185                            AIM/Hub-Indonesia 2.0\n",
       "186                                    REmap GRO2020\n",
       "187                                 TIAM-ECN ETH 1.1\n",
       "188                                    CEPRO-CHN 1.0\n",
       "Name: model, Length: 189, dtype: object"
      ]
     },
     "execution_count": 22,
     "metadata": {},
     "output_type": "execute_result"
    }
   ],
   "execution_count": 22
  },
  {
   "metadata": {
    "ExecuteTime": {
     "end_time": "2025-02-21T21:33:45.992429Z",
     "start_time": "2025-02-21T21:33:41.519396Z"
    }
   },
   "cell_type": "code",
   "source": "conn_ar6.scenarios()",
   "id": "db1a409fb34952ae",
   "outputs": [
    {
     "data": {
      "text/plain": [
       "0                                1\n",
       "1                EN_INDCi2030_1000\n",
       "2                EN_INDCi2030_500f\n",
       "3                EN_INDCi2030_600f\n",
       "4                EN_INDCi2030_700f\n",
       "                   ...            \n",
       "1384              SSP2_SPA2_19I_RE\n",
       "1385       Directed Transition 1.0\n",
       "1386                     2C-hybrid\n",
       "1387    DISCRATE_cb600_cdrall_dr4p\n",
       "1388                      SSP2_5.0\n",
       "Name: scenario, Length: 1389, dtype: object"
      ]
     },
     "execution_count": 26,
     "metadata": {},
     "output_type": "execute_result"
    }
   ],
   "execution_count": 26
  },
  {
   "metadata": {
    "ExecuteTime": {
     "end_time": "2025-02-21T21:33:19.003452Z",
     "start_time": "2025-02-21T21:33:18.499642Z"
    }
   },
   "cell_type": "code",
   "source": "conn_ar6.regions()",
   "id": "7419149e063c43ea",
   "outputs": [
    {
     "data": {
      "text/plain": [
       "0                         World\n",
       "1         Sao Tome and Principe\n",
       "2                  Turkmenistan\n",
       "3                  Saint Helena\n",
       "4                     Lithuania\n",
       "                 ...           \n",
       "239                Saudi Arabia\n",
       "240                    Thailand\n",
       "241                      Turkey\n",
       "242    United States of America\n",
       "243                    Vietnam \n",
       "Name: region, Length: 244, dtype: object"
      ]
     },
     "execution_count": 25,
     "metadata": {},
     "output_type": "execute_result"
    }
   ],
   "execution_count": 25
  },
  {
   "metadata": {
    "ExecuteTime": {
     "end_time": "2025-02-21T21:33:05.050298Z",
     "start_time": "2025-02-21T21:33:05.041083Z"
    }
   },
   "cell_type": "code",
   "source": "conn_ar6.variables().to_csv(r'ar6_variables.csv', index=False)",
   "id": "196e99d1d84ea4a7",
   "outputs": [],
   "execution_count": 24
  },
  {
   "metadata": {
    "ExecuteTime": {
     "end_time": "2025-02-21T21:42:29.360119Z",
     "start_time": "2025-02-21T21:40:12.170920Z"
    }
   },
   "cell_type": "code",
   "source": [
    "df_ar6 = pyam.read_iiasa(\n",
    "    \"ar6-public\",\n",
    "    model= ['REMIND-MAgPIE 2.1-4.2', 'IMAGE 3.0', 'IMAGE 3.2'],\n",
    "    variable=[\"Primary Energy*\"],\n",
    "    #region=\"World\",\n",
    "    meta=True,\n",
    ")"
   ],
   "id": "b0eac4fd554fc1f4",
   "outputs": [
    {
     "name": "stderr",
     "output_type": "stream",
     "text": [
      "[INFO] 16:40:13 - pyam.iiasa: You are connected to the IXSE_AR6_PUBLIC scenario explorer hosted by IIASA. If you use this data in any published format, please cite the data as provided in the explorer guidelines: https://data.ece.iiasa.ac.at/ar6/#/about\n",
      "[INFO] 16:40:13 - pyam.iiasa: You are connected as an anonymous user\n"
     ]
    }
   ],
   "execution_count": 27
  },
  {
   "metadata": {
    "ExecuteTime": {
     "end_time": "2025-02-21T21:51:19.664373Z",
     "start_time": "2025-02-21T21:51:19.657475Z"
    }
   },
   "cell_type": "code",
   "source": "df_ar6",
   "id": "912a8ab21d1c1af3",
   "outputs": [
    {
     "data": {
      "text/plain": [
       "<class 'pyam.core.IamDataFrame'>\n",
       "Index:\n",
       " * model    : IMAGE 3.0, IMAGE 3.2, REMIND-MAgPIE 2.1-4.2 (3)\n",
       " * scenario : CO_2Deg2020, CO_2Deg2030, CO_BAU, CO_Bridge, ... SusDev_SSP2-PkBudg900 (153)\n",
       "Timeseries data coordinates:\n",
       "   region   : Asian countries except Japan, ... World (35)\n",
       "   variable : Primary Energy, Primary Energy|Biomass, ... Primary Energy|Wind (57)\n",
       "   unit     : EJ/yr (1)\n",
       "   year     : 2005, 2010, 2015, 2020, 2025, 2030, 2035, 2040, ... 2150 (23)\n",
       "Meta indicators:\n",
       "   version (int64) 2 (1)\n",
       "   Regional_scope (object) Global (1)\n",
       "   Category (object) C3, C7, C5, C4, C6, C2, C1, C8 (8)\n",
       "   Category_name (object) C3: limit warming to 2°C (>67%), ... (8)\n",
       "   CO2 emissions reductions 2019-2020 % modelled Native (float64) ... (63)\n",
       "   ..."
      ]
     },
     "execution_count": 36,
     "metadata": {},
     "output_type": "execute_result"
    }
   ],
   "execution_count": 36
  },
  {
   "metadata": {
    "ExecuteTime": {
     "end_time": "2025-02-21T21:53:52.357769Z",
     "start_time": "2025-02-21T21:53:51.225403Z"
    }
   },
   "cell_type": "code",
   "source": "df_ar6.filter(model=\"REMIND-MAgPIE 2.1-4.2\").scenario",
   "id": "e39d829987f7ad06",
   "outputs": [
    {
     "data": {
      "text/plain": [
       "['CEMICS_SSP1-1p5C-fullCDR',\n",
       " 'CEMICS_SSP1-1p5C-minCDR',\n",
       " 'CEMICS_SSP1-Npi',\n",
       " 'CEMICS_SSP2-1p5C-fullCDR',\n",
       " 'CEMICS_SSP2-1p5C-minCDR',\n",
       " 'CEMICS_SSP2-2C-fullCDR',\n",
       " 'CEMICS_SSP2-2C-minCDR',\n",
       " 'CEMICS_SSP2-Npi',\n",
       " 'EN_INDCi2030_1000',\n",
       " 'EN_INDCi2030_1000_COV',\n",
       " 'EN_INDCi2030_1000_COV_NDCp',\n",
       " 'EN_INDCi2030_1000_NDCp',\n",
       " 'EN_INDCi2030_1000f',\n",
       " 'EN_INDCi2030_1000f_COV',\n",
       " 'EN_INDCi2030_1000f_COV_NDCp',\n",
       " 'EN_INDCi2030_1000f_NDCp',\n",
       " 'EN_INDCi2030_1200',\n",
       " 'EN_INDCi2030_1200f',\n",
       " 'EN_INDCi2030_1400',\n",
       " 'EN_INDCi2030_1400f',\n",
       " 'EN_INDCi2030_1600',\n",
       " 'EN_INDCi2030_1600f',\n",
       " 'EN_INDCi2030_1800',\n",
       " 'EN_INDCi2030_1800f',\n",
       " 'EN_INDCi2030_2000',\n",
       " 'EN_INDCi2030_2000f',\n",
       " 'EN_INDCi2030_2500',\n",
       " 'EN_INDCi2030_2500f',\n",
       " 'EN_INDCi2030_3000',\n",
       " 'EN_INDCi2030_3000f',\n",
       " 'EN_INDCi2030_300f',\n",
       " 'EN_INDCi2030_400f',\n",
       " 'EN_INDCi2030_500f',\n",
       " 'EN_INDCi2030_600_COV',\n",
       " 'EN_INDCi2030_600_COV_NDCp',\n",
       " 'EN_INDCi2030_600f',\n",
       " 'EN_INDCi2030_600f_COV',\n",
       " 'EN_INDCi2030_600f_COV_NDCp',\n",
       " 'EN_INDCi2030_600f_NDCp',\n",
       " 'EN_INDCi2030_700',\n",
       " 'EN_INDCi2030_700f',\n",
       " 'EN_INDCi2030_800',\n",
       " 'EN_INDCi2030_800f',\n",
       " 'EN_INDCi2030_900',\n",
       " 'EN_INDCi2030_900f',\n",
       " 'EN_INDCi2100',\n",
       " 'EN_INDCi2100_COV',\n",
       " 'EN_INDCi2100_COV_NDCp',\n",
       " 'EN_INDCi2100_NDCp',\n",
       " 'EN_NPi2020_1000',\n",
       " 'EN_NPi2020_1000_COV',\n",
       " 'EN_NPi2020_1000f',\n",
       " 'EN_NPi2020_1000f_COV',\n",
       " 'EN_NPi2020_1200',\n",
       " 'EN_NPi2020_1200f',\n",
       " 'EN_NPi2020_1400',\n",
       " 'EN_NPi2020_1400f',\n",
       " 'EN_NPi2020_1600',\n",
       " 'EN_NPi2020_1600f',\n",
       " 'EN_NPi2020_1800',\n",
       " 'EN_NPi2020_1800f',\n",
       " 'EN_NPi2020_2000',\n",
       " 'EN_NPi2020_2000f',\n",
       " 'EN_NPi2020_200f',\n",
       " 'EN_NPi2020_2500',\n",
       " 'EN_NPi2020_2500f',\n",
       " 'EN_NPi2020_3000',\n",
       " 'EN_NPi2020_3000f',\n",
       " 'EN_NPi2020_300f',\n",
       " 'EN_NPi2020_400',\n",
       " 'EN_NPi2020_400f',\n",
       " 'EN_NPi2020_500',\n",
       " 'EN_NPi2020_500f',\n",
       " 'EN_NPi2020_600',\n",
       " 'EN_NPi2020_600_COV',\n",
       " 'EN_NPi2020_600f',\n",
       " 'EN_NPi2020_600f_COV',\n",
       " 'EN_NPi2020_700',\n",
       " 'EN_NPi2020_700f',\n",
       " 'EN_NPi2020_800',\n",
       " 'EN_NPi2020_800f',\n",
       " 'EN_NPi2020_900',\n",
       " 'EN_NPi2020_900f',\n",
       " 'EN_NPi2100',\n",
       " 'EN_NPi2100_COV',\n",
       " 'EN_NoPolicy',\n",
       " 'NGFS2_Below 2°C',\n",
       " 'NGFS2_Below 2°C - IPD-95th',\n",
       " 'NGFS2_Below 2°C - IPD-median',\n",
       " 'NGFS2_Current Policies',\n",
       " 'NGFS2_Current Policies - IPD-95th',\n",
       " 'NGFS2_Current Policies - IPD-median',\n",
       " 'NGFS2_Delayed Transition',\n",
       " 'NGFS2_Divergent Net Zero Policies',\n",
       " 'NGFS2_Nationally Determined Contributions (NDCs)',\n",
       " 'NGFS2_Net-Zero 2050',\n",
       " 'NGFS2_Net-Zero 2050 - IPD-95th',\n",
       " 'NGFS2_Net-Zero 2050 - IPD-median',\n",
       " 'SusDev_SDP-NPi',\n",
       " 'SusDev_SDP-PkBudg1000',\n",
       " 'SusDev_SSP1-NDC',\n",
       " 'SusDev_SSP1-NPi',\n",
       " 'SusDev_SSP1-PkBudg900',\n",
       " 'SusDev_SSP2-NDC',\n",
       " 'SusDev_SSP2-NPi',\n",
       " 'SusDev_SSP2-PkBudg900']"
      ]
     },
     "execution_count": 38,
     "metadata": {},
     "output_type": "execute_result"
    }
   ],
   "execution_count": 38
  },
  {
   "metadata": {
    "ExecuteTime": {
     "end_time": "2025-02-21T21:56:34.765515Z",
     "start_time": "2025-02-21T21:56:34.473591Z"
    }
   },
   "cell_type": "code",
   "source": "df_ar6.filter(model=\"IMAGE 3.0\").scenario",
   "id": "812e9ad4bb5a4d8d",
   "outputs": [
    {
     "data": {
      "text/plain": [
       "['CO_2Deg2020',\n",
       " 'CO_2Deg2030',\n",
       " 'CO_BAU',\n",
       " 'CO_Bridge',\n",
       " 'CO_CurPol',\n",
       " 'CO_GPP',\n",
       " 'CO_NDCplus',\n",
       " 'EN_INDCi2030_1000',\n",
       " 'EN_INDCi2030_1000f',\n",
       " 'EN_INDCi2030_1200',\n",
       " 'EN_INDCi2030_1200f',\n",
       " 'EN_INDCi2030_1400',\n",
       " 'EN_INDCi2030_1400f',\n",
       " 'EN_INDCi2030_3000',\n",
       " 'EN_INDCi2030_3000f',\n",
       " 'EN_INDCi2030_800f',\n",
       " 'EN_INDCi2100',\n",
       " 'EN_NPi2020_1000',\n",
       " 'EN_NPi2020_1000f',\n",
       " 'EN_NPi2020_1200',\n",
       " 'EN_NPi2020_1200f',\n",
       " 'EN_NPi2020_1400',\n",
       " 'EN_NPi2020_1400f',\n",
       " 'EN_NPi2020_3000',\n",
       " 'EN_NPi2020_3000f',\n",
       " 'EN_NPi2020_600f',\n",
       " 'EN_NPi2020_800',\n",
       " 'EN_NPi2020_800f',\n",
       " 'EN_NPi2100',\n",
       " 'EN_NoPolicy']"
      ]
     },
     "execution_count": 39,
     "metadata": {},
     "output_type": "execute_result"
    }
   ],
   "execution_count": 39
  },
  {
   "metadata": {
    "ExecuteTime": {
     "end_time": "2025-02-21T21:56:51.224253Z",
     "start_time": "2025-02-21T21:56:50.487080Z"
    }
   },
   "cell_type": "code",
   "source": "df_ar6.filter(model=\"IMAGE 3.2\").scenario",
   "id": "6f8ccc8091d5138c",
   "outputs": [
    {
     "data": {
      "text/plain": [
       "['SSP1-baseline',\n",
       " 'SSP1_SPA1_19I_D',\n",
       " 'SSP1_SPA1_19I_D_LB',\n",
       " 'SSP1_SPA1_19I_LI',\n",
       " 'SSP1_SPA1_19I_LIRE',\n",
       " 'SSP1_SPA1_19I_LIRE_LB',\n",
       " 'SSP1_SPA1_19I_RE',\n",
       " 'SSP1_SPA1_19I_RE_LB',\n",
       " 'SSP1_SPA1_26I_D',\n",
       " 'SSP1_SPA1_26I_LI',\n",
       " 'SSP1_SPA1_26I_LIRE',\n",
       " 'SSP1_SPA1_26I_RE',\n",
       " 'SSP1_SPA1_34I_D',\n",
       " 'SSP1_SPA1_34I_LI',\n",
       " 'SSP1_SPA1_34I_LIRE',\n",
       " 'SSP1_SPA1_34I_RE',\n",
       " 'SSP2-baseline',\n",
       " 'SSP2_SPA0_26I_D',\n",
       " 'SSP2_SPA1_19I_D_LB',\n",
       " 'SSP2_SPA1_19I_LIRE_LB',\n",
       " 'SSP2_SPA1_19I_RE_LB',\n",
       " 'SSP2_SPA2_19I_D',\n",
       " 'SSP2_SPA2_19I_LI',\n",
       " 'SSP2_SPA2_19I_LIRE',\n",
       " 'SSP2_SPA2_19I_RE',\n",
       " 'SSP2_SPA2_26I_D',\n",
       " 'SSP2_SPA2_26I_LI',\n",
       " 'SSP2_SPA2_26I_LIRE',\n",
       " 'SSP2_SPA2_26I_RE',\n",
       " 'SSP2_SPA2_34I_D',\n",
       " 'SSP2_SPA2_34I_LI',\n",
       " 'SSP2_SPA2_34I_LIRE',\n",
       " 'SSP2_SPA2_34I_RE',\n",
       " 'SSP2_SPA2_45I_D',\n",
       " 'SSP2_SPA2_45I_LI',\n",
       " 'SSP2_SPA2_45I_LIRE',\n",
       " 'SSP2_SPA2_45I_RE',\n",
       " 'SSP3-baseline',\n",
       " 'SSP4-baseline',\n",
       " 'SSP5-baseline']"
      ]
     },
     "execution_count": 40,
     "metadata": {},
     "output_type": "execute_result"
    }
   ],
   "execution_count": 40
  },
  {
   "metadata": {},
   "cell_type": "markdown",
   "source": "# Plots",
   "id": "f12a2a9ddb527049"
  },
  {
   "metadata": {},
   "cell_type": "code",
   "outputs": [],
   "execution_count": null,
   "source": [
    "df_ar6.filter(variable=\"Emissions|CO2\").plot(\n",
    "    color=\"category\", legend=dict(loc=\"center left\", bbox_to_anchor=(1.0, 0.5))\n",
    ")"
   ],
   "id": "bac19c3f5c1ff0b8"
  }
 ],
 "metadata": {
  "kernelspec": {
   "display_name": "Python 3",
   "language": "python",
   "name": "python3"
  },
  "language_info": {
   "codemirror_mode": {
    "name": "ipython",
    "version": 2
   },
   "file_extension": ".py",
   "mimetype": "text/x-python",
   "name": "python",
   "nbconvert_exporter": "python",
   "pygments_lexer": "ipython2",
   "version": "2.7.6"
  }
 },
 "nbformat": 4,
 "nbformat_minor": 5
}
